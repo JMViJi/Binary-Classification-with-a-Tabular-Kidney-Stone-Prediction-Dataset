{
 "cells": [
  {
   "attachments": {},
   "cell_type": "markdown",
   "metadata": {},
   "source": [
    "# 1. Introducción\n",
    "\n",
    "El aprendizaje automático ha demostrado ser una herramienta poderosa en el campo de la medicina, permitiendo la detección temprana y el diagnóstico de diversas enfermedades. En este proyecto, nos centraremos en la predicción de la presencia de cálculos renales a través del análisis de orina.\n",
    "\n",
    "## 1.1. Resumen del problema\n",
    "\n",
    "Los cálculos renales son una afección común que puede causar dolor severo y complicaciones si no se detectan y tratan a tiempo. La formación de cálculos renales puede estar relacionada con ciertas características físicas de la orina. El objetivo de este proyecto es desarrollar un modelo de aprendizaje automático que pueda predecir la presencia de cálculos renales basándose en estas características.\n",
    "\n",
    "## 1.2. Conjunto de datos\n",
    "\n",
    "El conjunto de datos consta de 79 muestras de orina que se analizaron para determinar si ciertas características físicas de la orina podrían estar relacionadas con la formación de cristales de oxalato de calcio, un tipo común de cálculo renal. Los datos se obtuvieron del capítulo \"Physical Characteristics of Urines With and Without Crystals\" de la Serie Springer en Estadísticas.\n",
    "\n",
    "## 1.3. Características del conjunto de datos\n",
    "\n",
    "El conjunto de datos incluye seis características físicas de la orina:\n",
    "\n",
    "- Gravedad específica (Gravity): Se expresa como una relación entre la densidad de una sustancia (en este caso, la orina) y la densidad de una sustancia de referencia (generalmente agua). Rango: Normalmente, el valor de la gravedad específica de la orina se encuentra entre 1.005 y 1.030.\n",
    "\n",
    "- pH: el logaritmo negativo del ion hidrógeno. Rango: En general, el pH de la orina humana normal puede variar entre 4.6 y 8.0. Rango: El valor medio suele estar alrededor de 6.0.\n",
    "\n",
    "- Osmolaridad (osmo) mOsm: una unidad utilizada en biología y medicina que es proporcional a la concentración de moléculas en solución. Rango:La osmolaridad urinaria normal puede variar bastante dependiendo de la ingesta de líquidos, pero suele oscilar entre 300 y 900 mOsm/kg.\n",
    "  \n",
    "- Conductividad (cond) mMho milliMho: la conductividad es proporcional a la concentración de iones cargados en solución.Rango: La conductividad de la orina puede variar considerablemente, pero en general, valores entre 50 y 1500 μS/cm son típicos.\n",
    "  \n",
    "- Concentración de urea en milimoles por litro (urea). Rango: El rango normal de la concentración de urea en la orina es aproximadamente de 100 a 500 mmol/L, aunque puede variar considerablemente dependiendo de la dieta y el estado de hidratación.\n",
    "  \n",
    "- Concentración de calcio (calc) en milimoles por litro. Rango: La excreción normal de calcio en la orina es de hasta 250 mg (6.25 mmol) por 24 horas. Una excreción superior a esta cantidad puede considerarse alta y podría aumentar el riesgo de formación de cálculos renales\n",
    "\n",
    "- Objetivo (target): presencia o no de cálculos renales\n",
    "\n",
    "## 1.4. Metodología\n",
    "\n",
    "Para abordar este problema, seguiremos los siguientes pasos:\n",
    "\n",
    "- Preprocesamiento de datos: Limpiaremos y prepararemos los datos para el análisis. Esto puede incluir la eliminación de valores atípicos, la imputación de valores perdidos y la normalización de los datos.\n",
    "\n",
    "- Análisis exploratorio de datos (EDA): Exploraremos los datos para entender mejor las relaciones entre las características y la presencia de cálculos renales.\n",
    "\n",
    "- Selección de características: Identificaremos las características más importantes para la predicción de cálculos renales.\n",
    "\n",
    "- Modelado: Entrenaremos varios modelos de aprendizaje automático y seleccionaremos el que ofrezca el mejor rendimiento.\n",
    "\n",
    "- Evaluación del modelo: Evaluaremos el rendimiento del modelo utilizando métricas adecuadas, como la precisión, la sensibilidad y la especificidad.\n",
    "\n",
    "- Ajuste del modelo: Optimizaremos el modelo para mejorar su rendimiento.\n",
    "\n",
    "- Implementación y monitoreo: Finalmente, implementaremos el modelo y lo monitorearemos para asegurarnos de que continúa funcionando bien con los nuevos datos."
   ]
  },
  {
   "attachments": {},
   "cell_type": "markdown",
   "metadata": {},
   "source": [
    "# 2. Procesamiento de datos"
   ]
  },
  {
   "attachments": {},
   "cell_type": "markdown",
   "metadata": {},
   "source": [
    "## 2.1. Importación de datos y análisis básico"
   ]
  },
  {
   "cell_type": "code",
   "execution_count": 305,
   "metadata": {},
   "outputs": [],
   "source": [
    "import pandas as pd\n",
    "\n",
    "X_train = pd.read_csv('input/train.csv') \n",
    "X_test = pd.read_csv('input/test.csv')\n",
    "\n",
    "y_train = X_train['target']"
   ]
  },
  {
   "cell_type": "code",
   "execution_count": 306,
   "metadata": {},
   "outputs": [
    {
     "data": {
      "text/html": [
       "<div>\n",
       "<style scoped>\n",
       "    .dataframe tbody tr th:only-of-type {\n",
       "        vertical-align: middle;\n",
       "    }\n",
       "\n",
       "    .dataframe tbody tr th {\n",
       "        vertical-align: top;\n",
       "    }\n",
       "\n",
       "    .dataframe thead th {\n",
       "        text-align: right;\n",
       "    }\n",
       "</style>\n",
       "<table border=\"1\" class=\"dataframe\">\n",
       "  <thead>\n",
       "    <tr style=\"text-align: right;\">\n",
       "      <th></th>\n",
       "      <th>id</th>\n",
       "      <th>gravity</th>\n",
       "      <th>ph</th>\n",
       "      <th>osmo</th>\n",
       "      <th>cond</th>\n",
       "      <th>urea</th>\n",
       "      <th>calc</th>\n",
       "      <th>target</th>\n",
       "    </tr>\n",
       "  </thead>\n",
       "  <tbody>\n",
       "    <tr>\n",
       "      <th>0</th>\n",
       "      <td>0</td>\n",
       "      <td>1.013</td>\n",
       "      <td>6.19</td>\n",
       "      <td>443</td>\n",
       "      <td>14.8</td>\n",
       "      <td>124</td>\n",
       "      <td>1.45</td>\n",
       "      <td>0</td>\n",
       "    </tr>\n",
       "    <tr>\n",
       "      <th>1</th>\n",
       "      <td>1</td>\n",
       "      <td>1.025</td>\n",
       "      <td>5.40</td>\n",
       "      <td>703</td>\n",
       "      <td>23.6</td>\n",
       "      <td>394</td>\n",
       "      <td>4.18</td>\n",
       "      <td>0</td>\n",
       "    </tr>\n",
       "    <tr>\n",
       "      <th>2</th>\n",
       "      <td>2</td>\n",
       "      <td>1.009</td>\n",
       "      <td>6.13</td>\n",
       "      <td>371</td>\n",
       "      <td>24.5</td>\n",
       "      <td>159</td>\n",
       "      <td>9.04</td>\n",
       "      <td>0</td>\n",
       "    </tr>\n",
       "    <tr>\n",
       "      <th>3</th>\n",
       "      <td>3</td>\n",
       "      <td>1.021</td>\n",
       "      <td>4.91</td>\n",
       "      <td>442</td>\n",
       "      <td>20.8</td>\n",
       "      <td>398</td>\n",
       "      <td>6.63</td>\n",
       "      <td>1</td>\n",
       "    </tr>\n",
       "    <tr>\n",
       "      <th>4</th>\n",
       "      <td>4</td>\n",
       "      <td>1.021</td>\n",
       "      <td>5.53</td>\n",
       "      <td>874</td>\n",
       "      <td>17.8</td>\n",
       "      <td>385</td>\n",
       "      <td>2.21</td>\n",
       "      <td>1</td>\n",
       "    </tr>\n",
       "  </tbody>\n",
       "</table>\n",
       "</div>"
      ],
      "text/plain": [
       "   id  gravity    ph  osmo  cond  urea  calc  target\n",
       "0   0    1.013  6.19   443  14.8   124  1.45       0\n",
       "1   1    1.025  5.40   703  23.6   394  4.18       0\n",
       "2   2    1.009  6.13   371  24.5   159  9.04       0\n",
       "3   3    1.021  4.91   442  20.8   398  6.63       1\n",
       "4   4    1.021  5.53   874  17.8   385  2.21       1"
      ]
     },
     "execution_count": 306,
     "metadata": {},
     "output_type": "execute_result"
    }
   ],
   "source": [
    "X_train.head()"
   ]
  },
  {
   "cell_type": "code",
   "execution_count": 307,
   "metadata": {},
   "outputs": [
    {
     "data": {
      "text/html": [
       "<div>\n",
       "<style scoped>\n",
       "    .dataframe tbody tr th:only-of-type {\n",
       "        vertical-align: middle;\n",
       "    }\n",
       "\n",
       "    .dataframe tbody tr th {\n",
       "        vertical-align: top;\n",
       "    }\n",
       "\n",
       "    .dataframe thead th {\n",
       "        text-align: right;\n",
       "    }\n",
       "</style>\n",
       "<table border=\"1\" class=\"dataframe\">\n",
       "  <thead>\n",
       "    <tr style=\"text-align: right;\">\n",
       "      <th></th>\n",
       "      <th>id</th>\n",
       "      <th>gravity</th>\n",
       "      <th>ph</th>\n",
       "      <th>osmo</th>\n",
       "      <th>cond</th>\n",
       "      <th>urea</th>\n",
       "      <th>calc</th>\n",
       "      <th>target</th>\n",
       "    </tr>\n",
       "  </thead>\n",
       "  <tbody>\n",
       "    <tr>\n",
       "      <th>count</th>\n",
       "      <td>414.000000</td>\n",
       "      <td>414.000000</td>\n",
       "      <td>414.000000</td>\n",
       "      <td>414.000000</td>\n",
       "      <td>414.000000</td>\n",
       "      <td>414.000000</td>\n",
       "      <td>414.000000</td>\n",
       "      <td>414.000000</td>\n",
       "    </tr>\n",
       "    <tr>\n",
       "      <th>mean</th>\n",
       "      <td>206.500000</td>\n",
       "      <td>1.017894</td>\n",
       "      <td>5.955459</td>\n",
       "      <td>651.545894</td>\n",
       "      <td>21.437923</td>\n",
       "      <td>278.657005</td>\n",
       "      <td>4.114638</td>\n",
       "      <td>0.444444</td>\n",
       "    </tr>\n",
       "    <tr>\n",
       "      <th>std</th>\n",
       "      <td>119.655756</td>\n",
       "      <td>0.006675</td>\n",
       "      <td>0.642260</td>\n",
       "      <td>234.676567</td>\n",
       "      <td>7.514750</td>\n",
       "      <td>136.442249</td>\n",
       "      <td>3.217641</td>\n",
       "      <td>0.497505</td>\n",
       "    </tr>\n",
       "    <tr>\n",
       "      <th>min</th>\n",
       "      <td>0.000000</td>\n",
       "      <td>1.005000</td>\n",
       "      <td>4.760000</td>\n",
       "      <td>187.000000</td>\n",
       "      <td>5.100000</td>\n",
       "      <td>10.000000</td>\n",
       "      <td>0.170000</td>\n",
       "      <td>0.000000</td>\n",
       "    </tr>\n",
       "    <tr>\n",
       "      <th>25%</th>\n",
       "      <td>103.250000</td>\n",
       "      <td>1.012000</td>\n",
       "      <td>5.530000</td>\n",
       "      <td>455.250000</td>\n",
       "      <td>15.500000</td>\n",
       "      <td>170.000000</td>\n",
       "      <td>1.450000</td>\n",
       "      <td>0.000000</td>\n",
       "    </tr>\n",
       "    <tr>\n",
       "      <th>50%</th>\n",
       "      <td>206.500000</td>\n",
       "      <td>1.018000</td>\n",
       "      <td>5.740000</td>\n",
       "      <td>679.500000</td>\n",
       "      <td>22.200000</td>\n",
       "      <td>277.000000</td>\n",
       "      <td>3.130000</td>\n",
       "      <td>0.000000</td>\n",
       "    </tr>\n",
       "    <tr>\n",
       "      <th>75%</th>\n",
       "      <td>309.750000</td>\n",
       "      <td>1.022000</td>\n",
       "      <td>6.280000</td>\n",
       "      <td>840.000000</td>\n",
       "      <td>27.600000</td>\n",
       "      <td>385.000000</td>\n",
       "      <td>6.630000</td>\n",
       "      <td>1.000000</td>\n",
       "    </tr>\n",
       "    <tr>\n",
       "      <th>max</th>\n",
       "      <td>413.000000</td>\n",
       "      <td>1.040000</td>\n",
       "      <td>7.940000</td>\n",
       "      <td>1236.000000</td>\n",
       "      <td>38.000000</td>\n",
       "      <td>620.000000</td>\n",
       "      <td>14.340000</td>\n",
       "      <td>1.000000</td>\n",
       "    </tr>\n",
       "  </tbody>\n",
       "</table>\n",
       "</div>"
      ],
      "text/plain": [
       "               id     gravity          ph         osmo        cond   \n",
       "count  414.000000  414.000000  414.000000   414.000000  414.000000  \\\n",
       "mean   206.500000    1.017894    5.955459   651.545894   21.437923   \n",
       "std    119.655756    0.006675    0.642260   234.676567    7.514750   \n",
       "min      0.000000    1.005000    4.760000   187.000000    5.100000   \n",
       "25%    103.250000    1.012000    5.530000   455.250000   15.500000   \n",
       "50%    206.500000    1.018000    5.740000   679.500000   22.200000   \n",
       "75%    309.750000    1.022000    6.280000   840.000000   27.600000   \n",
       "max    413.000000    1.040000    7.940000  1236.000000   38.000000   \n",
       "\n",
       "             urea        calc      target  \n",
       "count  414.000000  414.000000  414.000000  \n",
       "mean   278.657005    4.114638    0.444444  \n",
       "std    136.442249    3.217641    0.497505  \n",
       "min     10.000000    0.170000    0.000000  \n",
       "25%    170.000000    1.450000    0.000000  \n",
       "50%    277.000000    3.130000    0.000000  \n",
       "75%    385.000000    6.630000    1.000000  \n",
       "max    620.000000   14.340000    1.000000  "
      ]
     },
     "execution_count": 307,
     "metadata": {},
     "output_type": "execute_result"
    }
   ],
   "source": [
    "X_train.describe()"
   ]
  },
  {
   "cell_type": "code",
   "execution_count": 308,
   "metadata": {},
   "outputs": [],
   "source": [
    "# New dataframe equal to X_train but without the ID column and the target column\n",
    "X_train_no_target = X_train.drop(['id', 'target'], axis=1)\n"
   ]
  },
  {
   "cell_type": "code",
   "execution_count": 309,
   "metadata": {},
   "outputs": [
    {
     "data": {
      "image/png": "[encoded data removed]",
      "text/plain": [
       "<Figure size 600x600 with 9 Axes>"
      ]
     },
     "metadata": {},
     "output_type": "display_data"
    }
   ],
   "source": [
    "# Boxplot for each feature in X_train dataset without the first and last column\n",
    "import matplotlib.pyplot as plt\n",
    "\n",
    "# New dataframe equal to X_train but without the ID column and the target column\n",
    "X_train_no_target_ID = X_train.drop(['id', 'target'], axis=1)\n",
    "\n",
    "X_train_no_target_ID.plot(kind='box', subplots=True, layout=(3,3), sharex=False, sharey=False)\n",
    "# Size increase for each plot\n",
    "plt.rcParams['figure.figsize'] = [10, 10]\n",
    "plt.show()"
   ]
  },
  {
   "attachments": {},
   "cell_type": "markdown",
   "metadata": {},
   "source": [
    "# 2.2. Outliers"
   ]
  },
  {
   "attachments": {},
   "cell_type": "markdown",
   "metadata": {},
   "source": [
    "### 2.1.1 Outliers en gravedad específica"
   ]
  },
  {
   "cell_type": "code",
   "execution_count": 310,
   "metadata": {},
   "outputs": [
    {
     "name": "stdout",
     "output_type": "stream",
     "text": [
      "Lower limit of Gravity column:  0.997\n",
      "Upper limit of Gravity column:  1.037\n",
      "Q1 of Gravity column:  1.012\n",
      "Q3 of Gravity column:  1.022\n"
     ]
    },
    {
     "data": {
      "text/html": [
       "<div>\n",
       "<style scoped>\n",
       "    .dataframe tbody tr th:only-of-type {\n",
       "        vertical-align: middle;\n",
       "    }\n",
       "\n",
       "    .dataframe tbody tr th {\n",
       "        vertical-align: top;\n",
       "    }\n",
       "\n",
       "    .dataframe thead th {\n",
       "        text-align: right;\n",
       "    }\n",
       "</style>\n",
       "<table border=\"1\" class=\"dataframe\">\n",
       "  <thead>\n",
       "    <tr style=\"text-align: right;\">\n",
       "      <th></th>\n",
       "      <th>gravity</th>\n",
       "      <th>ph</th>\n",
       "      <th>osmo</th>\n",
       "      <th>cond</th>\n",
       "      <th>urea</th>\n",
       "      <th>calc</th>\n",
       "    </tr>\n",
       "  </thead>\n",
       "  <tbody>\n",
       "    <tr>\n",
       "      <th>200</th>\n",
       "      <td>1.04</td>\n",
       "      <td>6.28</td>\n",
       "      <td>838</td>\n",
       "      <td>14.3</td>\n",
       "      <td>486</td>\n",
       "      <td>8.53</td>\n",
       "    </tr>\n",
       "    <tr>\n",
       "      <th>315</th>\n",
       "      <td>1.04</td>\n",
       "      <td>5.73</td>\n",
       "      <td>704</td>\n",
       "      <td>24.5</td>\n",
       "      <td>260</td>\n",
       "      <td>3.34</td>\n",
       "    </tr>\n",
       "    <tr>\n",
       "      <th>404</th>\n",
       "      <td>1.04</td>\n",
       "      <td>5.74</td>\n",
       "      <td>1236</td>\n",
       "      <td>27.0</td>\n",
       "      <td>620</td>\n",
       "      <td>3.98</td>\n",
       "    </tr>\n",
       "  </tbody>\n",
       "</table>\n",
       "</div>"
      ],
      "text/plain": [
       "     gravity    ph  osmo  cond  urea  calc\n",
       "200     1.04  6.28   838  14.3   486  8.53\n",
       "315     1.04  5.73   704  24.5   260  3.34\n",
       "404     1.04  5.74  1236  27.0   620  3.98"
      ]
     },
     "execution_count": 310,
     "metadata": {},
     "output_type": "execute_result"
    }
   ],
   "source": [
    "# Selection of outliers observations in Gravity column\n",
    "# Q1 of Gravity column\n",
    "Q1 = X_train_no_target_ID['gravity'].quantile(0.25)\n",
    "# Q3 of Gravity column\n",
    "Q3 = X_train_no_target_ID['gravity'].quantile(0.75)\n",
    "# IQR of Gravity column\n",
    "IQR = Q3 - Q1\n",
    "# Lower limit of Gravity column\n",
    "lower_limit = Q1 - 1.5 * IQR\n",
    "# Upper limit of Gravity column\n",
    "upper_limit = Q3 + 1.5 * IQR\n",
    "\n",
    "# Print of all Boxplot inforamtion of Gravity column\n",
    "print('Lower limit of Gravity column: ', lower_limit)\n",
    "print('Upper limit of Gravity column: ', upper_limit)\n",
    "print('Q1 of Gravity column: ', Q1)\n",
    "print('Q3 of Gravity column: ', Q3)\n",
    "\n",
    "# Observations over the upper limit\n",
    "X_train_observations_over_UL = X_train_no_target_ID[X_train_no_target_ID['gravity'] > upper_limit]\n",
    "X_train_observations_over_UL.head()"
   ]
  },
  {
   "attachments": {},
   "cell_type": "markdown",
   "metadata": {},
   "source": [
    "Teenemos varias observaciones con una gravedad específica alta, superior a 1.003, que puede indicar una concentración elevada de sustancias disueltas, lo cual puede aumentar el riesgo de formación de cálculos renales.\n",
    "\n",
    "Los cálculos renales, especialmente los de oxalato de calcio y fosfato de calcio, tienden a formarse en orina concentrada. Esto se debe a que cuando las sustancias como el calcio, el oxalato y el fosfato están presentes en altas concentraciones, tienen más probabilidades de agruparse y formar cristales, los precursores de los cálculos.\n",
    "\n",
    "Además, una orina concentrada puede indicar un estado de deshidratación. La deshidratación puede aumentar el riesgo de cálculos renales al disminuir el volumen de orina, lo que hace que las sustancias que forman cálculos estén más concentradas en la orina y, por lo tanto, tengan más probabilidades de formar cristales.\n",
    "\n",
    "Por lo tanto, si un individuo tiene consistentemente una gravedad específica de orina alta, podría ser útil para esa persona aumentar la ingesta de líquidos para diluir la orina, lo que puede ayudar a reducir el riesgo de formación de cálculos renales."
   ]
  },
  {
   "attachments": {},
   "cell_type": "markdown",
   "metadata": {},
   "source": [
    "### 2.1.1. Outliers en pH"
   ]
  },
  {
   "attachments": {},
   "cell_type": "markdown",
   "metadata": {},
   "source": [
    "El pH de la orina puede variar dependiendo de muchos factores, incluyendo la dieta, ciertos medicamentos, y condiciones médicas. Sin embargo, generalmente, el rango de pH normal de la orina se considera entre 4.6 y 8.0. La mayoría de las veces, la orina tiende a ser ligeramente ácida, con un valor medio de pH de alrededor de 6.0.\n",
    "\n",
    "Un pH más bajo (ácido) puede ser causado por, entre otras cosas, una dieta alta en proteínas animales, la deshidratación, ciertos medicamentos y ciertas afecciones médicas, como el síndrome de malabsorción o la diabetes.\n",
    "\n",
    "Por otro lado, un pH más alto (básico) puede ser causado por una dieta alta en frutas y verduras, infecciones del tracto urinario, o ciertas afecciones metabólicas.\n",
    "\n",
    "El pH de la orina puede influir en la tendencia a formar ciertos tipos de cálculos renales. Por ejemplo, un pH urinario alto puede favorecer la formación de cálculos de fosfato de calcio o estruvita, mientras que un pH urinario bajo puede favorecer la formación de cálculos de ácido úrico o cistina."
   ]
  },
  {
   "attachments": {},
   "cell_type": "markdown",
   "metadata": {},
   "source": [
    "- Cálculos de oxalato de calcio: Estos son el tipo más común de cálculos renales y pueden formarse en orina con un rango amplio de pH. Un pH urinario persistentemente por debajo de 5.5 podría contribuir a su formación, ya que en condiciones más ácidas, el calcio y el oxalato tienen una mayor tendencia a combinarse y formar cristales, los precursores de los cálculos. Sin embargo, los cálculos de oxalato de calcio también pueden formarse en orina con un pH más neutral.\n",
    "\n",
    "- Cálculos de fosfato de calcio: Estos cálculos pueden formarse en orina con un pH más alcalino. Si el pH de la orina es regularmente superior a 7,0, podría existir un mayor riesgo de desarrollar este tipo de cálculos.\n",
    "\n",
    "- Cálculos de ácido úrico: Este tipo de cálculos se forman más fácilmente en orina ácida. Si el pH de la orina es regularmente inferior a 5.5, podría existir un mayor riesgo de desarrollar este tipo de cálculos.\n",
    "\n",
    "- Cálculos de estruvita (o fosfato de magnesio amónico): Estos cálculos se forman en orina alcalina, a menudo en presencia de infecciones del tracto urinario por bacterias que producen ureasa. Si el pH de la orina es regularmente superior a 7,0, podría existir un mayor riesgo de desarrollar este tipo de cálculos.\n",
    "\n",
    "Por lo tanto, si un paciente tiene un pH urinario que está constantemente en los extremos (es decir, regularmente por debajo de 5,5 o por encima de 7,0), podría ser útil realizar un seguimiento más detenido para evaluar la posibilidad de formación de cálculos renales. Sin embargo, es importante tener en cuenta que el pH de la orina es solo uno de los muchos factores que contribuyen a la formación de cálculos renales."
   ]
  },
  {
   "cell_type": "code",
   "execution_count": 311,
   "metadata": {},
   "outputs": [
    {
     "name": "stdout",
     "output_type": "stream",
     "text": [
      "Lower limit of ph column:  4.405\n",
      "Upper limit of ph column:  7.405\n",
      "Q1 of ph column:  5.53\n",
      "Q3 of ph column:  6.28\n"
     ]
    },
    {
     "data": {
      "text/html": [
       "<div>\n",
       "<style scoped>\n",
       "    .dataframe tbody tr th:only-of-type {\n",
       "        vertical-align: middle;\n",
       "    }\n",
       "\n",
       "    .dataframe tbody tr th {\n",
       "        vertical-align: top;\n",
       "    }\n",
       "\n",
       "    .dataframe thead th {\n",
       "        text-align: right;\n",
       "    }\n",
       "</style>\n",
       "<table border=\"1\" class=\"dataframe\">\n",
       "  <thead>\n",
       "    <tr style=\"text-align: right;\">\n",
       "      <th></th>\n",
       "      <th>id</th>\n",
       "      <th>gravity</th>\n",
       "      <th>ph</th>\n",
       "      <th>osmo</th>\n",
       "      <th>cond</th>\n",
       "      <th>urea</th>\n",
       "      <th>calc</th>\n",
       "      <th>target</th>\n",
       "    </tr>\n",
       "  </thead>\n",
       "  <tbody>\n",
       "    <tr>\n",
       "      <th>32</th>\n",
       "      <td>32</td>\n",
       "      <td>1.017</td>\n",
       "      <td>7.61</td>\n",
       "      <td>527</td>\n",
       "      <td>21.4</td>\n",
       "      <td>75</td>\n",
       "      <td>2.17</td>\n",
       "      <td>0</td>\n",
       "    </tr>\n",
       "    <tr>\n",
       "      <th>58</th>\n",
       "      <td>58</td>\n",
       "      <td>1.022</td>\n",
       "      <td>7.92</td>\n",
       "      <td>907</td>\n",
       "      <td>26.1</td>\n",
       "      <td>443</td>\n",
       "      <td>4.49</td>\n",
       "      <td>0</td>\n",
       "    </tr>\n",
       "    <tr>\n",
       "      <th>104</th>\n",
       "      <td>104</td>\n",
       "      <td>1.017</td>\n",
       "      <td>7.61</td>\n",
       "      <td>527</td>\n",
       "      <td>25.8</td>\n",
       "      <td>75</td>\n",
       "      <td>3.98</td>\n",
       "      <td>0</td>\n",
       "    </tr>\n",
       "    <tr>\n",
       "      <th>177</th>\n",
       "      <td>177</td>\n",
       "      <td>1.020</td>\n",
       "      <td>7.90</td>\n",
       "      <td>668</td>\n",
       "      <td>23.6</td>\n",
       "      <td>252</td>\n",
       "      <td>3.98</td>\n",
       "      <td>1</td>\n",
       "    </tr>\n",
       "    <tr>\n",
       "      <th>201</th>\n",
       "      <td>201</td>\n",
       "      <td>1.018</td>\n",
       "      <td>7.61</td>\n",
       "      <td>527</td>\n",
       "      <td>20.8</td>\n",
       "      <td>75</td>\n",
       "      <td>3.98</td>\n",
       "      <td>1</td>\n",
       "    </tr>\n",
       "  </tbody>\n",
       "</table>\n",
       "</div>"
      ],
      "text/plain": [
       "      id  gravity    ph  osmo  cond  urea  calc  target\n",
       "32    32    1.017  7.61   527  21.4    75  2.17       0\n",
       "58    58    1.022  7.92   907  26.1   443  4.49       0\n",
       "104  104    1.017  7.61   527  25.8    75  3.98       0\n",
       "177  177    1.020  7.90   668  23.6   252  3.98       1\n",
       "201  201    1.018  7.61   527  20.8    75  3.98       1"
      ]
     },
     "execution_count": 311,
     "metadata": {},
     "output_type": "execute_result"
    }
   ],
   "source": [
    "# Selection of outliers observations in pH  column\n",
    "# Q1 of Gravity column\n",
    "Q1 = X_train_no_target_ID['ph'].quantile(0.25)\n",
    "# Q3 of Gravity column\n",
    "Q3 = X_train_no_target_ID['ph'].quantile(0.75)\n",
    "# IQR of Gravity column\n",
    "IQR = Q3 - Q1\n",
    "# Lower limit of Gravity column\n",
    "lower_limit = Q1 - 1.5 * IQR\n",
    "# Upper limit of Gravity column\n",
    "upper_limit = Q3 + 1.5 * IQR\n",
    "\n",
    "# Print of all Boxplot inforamtion of Gravity column\n",
    "print('Lower limit of ph column: ', lower_limit)\n",
    "print('Upper limit of ph column: ', upper_limit)\n",
    "print('Q1 of ph column: ', Q1)\n",
    "print('Q3 of ph column: ', Q3)\n",
    "\n",
    "# Observations over the upper limit\n",
    "X_train_observations_over_UL_pH = X_train[X_train['ph'] > upper_limit]\n",
    "X_train_observations_over_UL_pH.head()"
   ]
  },
  {
   "attachments": {},
   "cell_type": "markdown",
   "metadata": {},
   "source": [
    "Estos valores atípicos son candidatos a generara cálculos renales si se mantiene regularmente en estos valores."
   ]
  },
  {
   "attachments": {},
   "cell_type": "markdown",
   "metadata": {},
   "source": [
    "## 2.2. Missing values"
   ]
  },
  {
   "cell_type": "code",
   "execution_count": 312,
   "metadata": {},
   "outputs": [
    {
     "name": "stdout",
     "output_type": "stream",
     "text": [
      "<class 'pandas.core.frame.DataFrame'>\n",
      "RangeIndex: 414 entries, 0 to 413\n",
      "Data columns (total 8 columns):\n",
      " #   Column   Non-Null Count  Dtype  \n",
      "---  ------   --------------  -----  \n",
      " 0   id       414 non-null    int64  \n",
      " 1   gravity  414 non-null    float64\n",
      " 2   ph       414 non-null    float64\n",
      " 3   osmo     414 non-null    int64  \n",
      " 4   cond     414 non-null    float64\n",
      " 5   urea     414 non-null    int64  \n",
      " 6   calc     414 non-null    float64\n",
      " 7   target   414 non-null    int64  \n",
      "dtypes: float64(4), int64(4)\n",
      "memory usage: 26.0 KB\n"
     ]
    }
   ],
   "source": [
    "# Tabla con informacion de las columnas como: Missing values, tipo de dato, etc.\n",
    "X_train.info()"
   ]
  },
  {
   "attachments": {},
   "cell_type": "markdown",
   "metadata": {},
   "source": [
    "No tenemos valores faltantes en ninguna observación."
   ]
  },
  {
   "attachments": {},
   "cell_type": "markdown",
   "metadata": {},
   "source": [
    "# 3. Análisis exploratorio de datos (EDA)\n",
    "Exploraremos los datos para entender mejor las relaciones entre las características y la presencia de cálculos renales.\n",
    "Como vimos anteriormente, existe posibilidad de cálculos renales en estas condiciones:\n",
    "\n",
    "- Gravedad específica > 1.03\n",
    "- pH > 7 y pH< 5.5\n",
    "\n",
    "Con respecto al resto de variables:\n",
    "\n",
    "- Osmolaridad: se refiere a la concentración de las partículas solubles, como los electrolitos y otros compuestos, que se encuentran en la orina. Se mide en miliosmoles por litro (mOsm/L).\n",
    "\n",
    "    El rango normal de osmolaridad en la orina puede variar considerablemente dependiendo de varios factores, como el estado de hidratación, la dieta y ciertas condiciones médicas. Una osmolaridad urinaria constantemente en el extremo superior de este rango (por ejemplo, cercana a 1200 mOsm/L o más) puede indicar un estado de deshidratación o una orina muy concentrada. Esto podría ser motivo de preocupación ya que la orina concentrada puede contribuir a la formación de cálculos renales. En una orina más concentrada, los solutos como el calcio, el oxalato y el fosfato tienen una mayor tendencia a cristalizar y formar cálculos.\n",
    "\n",
    "- Conductividad: en millimhos (mMho), se refiere a la capacidad de la orina para conducir electricidad. Esta conductividad está relacionada con la cantidad de iones disueltos presentes en la orina.\n",
    "\n",
    "    Los valores normales de conductividad en la orina pueden variar ampliamente dependiendo de la ingesta de líquidos, la dieta y otros factores. En general, estos valores pueden oscilar entre aproximadamente 1 y 100 mMho/cm. Sin embargo, estos valores pueden ser aún más amplios dependiendo de la metodología y las condiciones de la medición.\n",
    "\n",
    "    Una conductividad urinaria alta (en el extremo superior de este rango o más allá) puede indicar una orina más concentrada. En orina más concentrada, los solutos como el calcio y el oxalato tienen más probabilidades de cristalizar y formar cálculos.\n",
    "\n",
    "- Urea: La concentración de urea en la orina puede variar ampliamente y depende de muchos factores, incluyendo la ingesta de proteínas, el estado de hidratación, y la función renal. En general, la concentración de urea en la orina puede oscilar entre aproximadamente 100 y 600 milimoles por litro (mmol/L).\n",
    "\n",
    "    Una concentración elevada de urea en la orina puede ser indicativa de una ingesta alta de proteínas, de deshidratación o de un aumento en la descomposición de las proteínas en el cuerpo. En el contexto de los cálculos renales, aunque la urea en sí misma no es un factor de riesgo directo para la formación de cálculos, la deshidratación (una posible causa de una concentración elevada de urea en la orina) puede aumentar el riesgo de formación de cálculos al aumentar la concentración de otros solutos en la orina.\n",
    "\n",
    "    Por lo tanto, una concentración de urea en la orina que esté constantemente en el extremo superior del rango normal (por ejemplo, cercana a 600 mmol/L o más) podría ser motivo de preocupación, especialmente si se asocia con otros factores de riesgo para los cálculos renales.\n",
    "\n",
    "- Calcio: La concentración de calcio en la orina puede variar dependiendo de varios factores, incluyendo la dieta, la hidratación, y ciertos trastornos metabólicos o renales. Sin embargo, en general, la concentración normal de calcio en la orina es de menos de 7.5 milimoles por día (o alrededor de 0.1 a 0.3 milimoles por litro para un adulto con una producción urinaria normal).\n",
    "\n",
    "    Una concentración elevada de calcio en la orina, también conocida como hipercalciuria, puede ser un factor de riesgo importante para la formación de cálculos de oxalato de calcio, que es el tipo más común de cálculo renal. Esto se debe a que el exceso de calcio en la orina puede combinarse con el oxalato, formando cristales que pueden agruparse y formar cálculos.\n",
    "\n",
    "    Por lo tanto, una concentración de calcio en la orina que está constantemente en el extremo superior del rango normal (por ejemplo, cercana a 0.3 milimoles por litro o más) podría ser un motivo de preocupación y posiblemente requeriría un seguimiento más estrecho, especialmente si se asocia con otros factores de riesgo para los cálculos renales.\n",
    "\n",
    "Resumiento la información anterior con la que ya teníamos, hay posibilidad de cálculos renbales cuando:\n",
    "\n",
    "- Gravedad específica > 1.03\n",
    "- pH > 7 y pH< 5.5\n",
    "- Osmolaridad > 1200 mOsm/L\n",
    "- Conductividad > 100 mMho/cm\n",
    "- Urea > 600 mmol/L\n",
    "- Calcio > 0.3 mmol/L\n"
   ]
  },
  {
   "cell_type": "code",
   "execution_count": 313,
   "metadata": {},
   "outputs": [
    {
     "data": {
      "image/png": "[encoded data removed]",
      "text/plain": [
       "<Figure size 600x600 with 1 Axes>"
      ]
     },
     "metadata": {},
     "output_type": "display_data"
    }
   ],
   "source": [
    "# Cantidad de pacientes con cálculos renales ,representados en un donut chart\n",
    "import matplotlib.pyplot as plt\n",
    "\n",
    "# Cantidad de pacientes con cálculos renales\n",
    "X_train['target'].value_counts()\n",
    "\n",
    "# Plot, con tamaño de 6x6\n",
    "plt.rcParams['figure.figsize'] = [6, 6]\n",
    "# Plot de donut chart\n",
    "plt.pie(X_train['target'].value_counts(), labels=['No', 'Si'], autopct='%1.1f%%', startangle=90)\n",
    "plt.title('Cantidad de pacientes con cálculos renales')\n",
    "plt.show()\n"
   ]
  },
  {
   "attachments": {},
   "cell_type": "markdown",
   "metadata": {},
   "source": [
    "Prácticamente la mitad de las observacione tienen cálculos renales."
   ]
  },
  {
   "attachments": {},
   "cell_type": "markdown",
   "metadata": {},
   "source": [
    "## 3.1. Correlación entre variables"
   ]
  },
  {
   "cell_type": "code",
   "execution_count": 314,
   "metadata": {},
   "outputs": [
    {
     "data": {
      "image/png": "[encoded data removed]",
      "text/plain": [
       "<Figure size 600x600 with 2 Axes>"
      ]
     },
     "metadata": {},
     "output_type": "display_data"
    }
   ],
   "source": [
    "# Matriz de correlacion de X_train\n",
    "import seaborn as sns\n",
    "import numpy as np\n",
    "\n",
    "# New dataframe equal to X_train but without the ID column\n",
    "X_train_no_ID = X_train.drop(['id'], axis=1)\n",
    "\n",
    "# Correlation matrix without superior diagonal\n",
    "corr_matrix = X_train_no_ID.corr()\n",
    "mask = np.zeros_like(corr_matrix)\n",
    "mask[np.triu_indices_from(mask)] = True\n",
    "with sns.axes_style(\"white\"):\n",
    "    f, ax = plt.subplots(figsize=(6, 6))\n",
    "    ax = sns.heatmap(corr_matrix, mask=mask, vmax=.3, square=True, annot=True)\n",
    "\n",
    "# Heatmap\n",
    "plt.show()\n"
   ]
  },
  {
   "attachments": {},
   "cell_type": "markdown",
   "metadata": {},
   "source": [
    "Existe cierta correlación entre variables que descarta que alguna de ellas pueda ser eliminada en procesos posteriores."
   ]
  },
  {
   "cell_type": "code",
   "execution_count": 315,
   "metadata": {},
   "outputs": [
    {
     "data": {
      "image/png": "[encoded data removed]",
      "text/plain": [
       "<Figure size 700x700 with 6 Axes>"
      ]
     },
     "metadata": {},
     "output_type": "display_data"
    }
   ],
   "source": [
    "# Histograma de cada variable\n",
    "X_train_no_target_ID.hist(bins=10, figsize=(7,7))\n",
    "plt.show()\n"
   ]
  },
  {
   "attachments": {},
   "cell_type": "markdown",
   "metadata": {},
   "source": [
    "Excepto en calcio y conductividad, encontramos observacioens candidatas a presentar cálulos renaes."
   ]
  },
  {
   "attachments": {},
   "cell_type": "markdown",
   "metadata": {},
   "source": [
    "Análisis de grupos"
   ]
  },
  {
   "cell_type": "code",
   "execution_count": 316,
   "metadata": {},
   "outputs": [
    {
     "data": {
      "image/png": "[encoded data removed]",
      "text/plain": [
       "<Figure size 600x600 with 1 Axes>"
      ]
     },
     "metadata": {},
     "output_type": "display_data"
    }
   ],
   "source": [
    "import pandas as pd\n",
    "import numpy as np\n",
    "from sklearn.cluster import KMeans\n",
    "import matplotlib.pyplot as plt\n",
    "from sklearn.preprocessing import StandardScaler\n",
    "\n",
    "scaler = StandardScaler()\n",
    "scaled_df = scaler.fit_transform(X_train_no_ID)\n",
    "\n",
    "wcss = []\n",
    "\n",
    "for i in range(1, 11):\n",
    "    kmeans = KMeans(n_clusters=i, init='k-means++', max_iter=300, n_init=10, random_state=0)\n",
    "    kmeans.fit(scaled_df)\n",
    "    wcss.append(kmeans.inertia_)\n",
    "    \n",
    "plt.plot(range(1, 11), wcss)\n",
    "plt.title('Elbow Method')\n",
    "plt.xlabel('Number of clusters')\n",
    "plt.ylabel('WCSS')\n",
    "plt.show()\n",
    "\n"
   ]
  },
  {
   "attachments": {},
   "cell_type": "markdown",
   "metadata": {},
   "source": [
    "Podríamos decir que el codo estarían en 2-3."
   ]
  },
  {
   "cell_type": "code",
   "execution_count": 317,
   "metadata": {},
   "outputs": [
    {
     "data": {
      "image/png": "[encoded data removed]",
      "text/plain": [
       "<Figure size 600x600 with 1 Axes>"
      ]
     },
     "metadata": {},
     "output_type": "display_data"
    }
   ],
   "source": [
    "# Aplicar el algoritmo de k-means con 2 clusters\n",
    "kmeans = KMeans(n_clusters=2, init='k-means++', max_iter=300, n_init=10, random_state=0)\n",
    "clusters = kmeans.fit_predict(scaled_df)\n",
    "\n",
    "# Visualizar los resultados\n",
    "plt.scatter(scaled_df[clusters == 0, 0], scaled_df[clusters == 0, 1], s = 100, c = 'red', label = 'Cluster 1')\n",
    "plt.scatter(scaled_df[clusters == 1, 0], scaled_df[clusters == 1, 1], s = 100, c = 'blue', label = 'Cluster 2')\n",
    "plt.scatter(kmeans.cluster_centers_[:, 0], kmeans.cluster_centers_[:, 1], s = 300, c = 'yellow', label = 'Centroids')\n",
    "plt.title('Clusters of patients')\n",
    "plt.legend()\n",
    "plt.show()"
   ]
  },
  {
   "attachments": {},
   "cell_type": "markdown",
   "metadata": {},
   "source": [
    "Podemos observar 2 grupos bien difrenciados con outliers dentro de cada uno de ellos que podrían ser problemáticos. Aún así teniendo en cuenta que son dos grupòs bastantes parecidos y que finalmente alrededor de 55% de las observaciones no tienen cálculos frente al 45% que sí, podría ser una opción a explorar posteriormente realizar una redución de compoenentes PCA. Se decide realizar la reducción para futuros análisis."
   ]
  },
  {
   "cell_type": "code",
   "execution_count": 318,
   "metadata": {},
   "outputs": [],
   "source": [
    "from sklearn.decomposition import PCA\n",
    "\n",
    "# Supongamos que `df` es tu DataFrame y quieres reducirlo a 2 componentes principales\n",
    "pca = PCA(n_components=2)\n",
    "\n",
    "# Normalizar los datos antes de aplicar PCA\n",
    "scaler = StandardScaler()\n",
    "df = scaler.fit_transform(X_train_no_ID)\n",
    "\n",
    "principalComponents = pca.fit_transform(df)\n",
    "\n",
    "# Convertir las componentes principales a un DataFrame para facilitar el manejo\n",
    "X_train_PCA = pd.DataFrame(data = principalComponents, columns = ['principal component 1', 'principal component 2'])\n"
   ]
  },
  {
   "cell_type": "code",
   "execution_count": 319,
   "metadata": {},
   "outputs": [
    {
     "data": {
      "text/html": [
       "<div>\n",
       "<style scoped>\n",
       "    .dataframe tbody tr th:only-of-type {\n",
       "        vertical-align: middle;\n",
       "    }\n",
       "\n",
       "    .dataframe tbody tr th {\n",
       "        vertical-align: top;\n",
       "    }\n",
       "\n",
       "    .dataframe thead th {\n",
       "        text-align: right;\n",
       "    }\n",
       "</style>\n",
       "<table border=\"1\" class=\"dataframe\">\n",
       "  <thead>\n",
       "    <tr style=\"text-align: right;\">\n",
       "      <th></th>\n",
       "      <th>principal component 1</th>\n",
       "      <th>principal component 2</th>\n",
       "    </tr>\n",
       "  </thead>\n",
       "  <tbody>\n",
       "    <tr>\n",
       "      <th>0</th>\n",
       "      <td>-2.185045</td>\n",
       "      <td>-0.334553</td>\n",
       "    </tr>\n",
       "    <tr>\n",
       "      <th>1</th>\n",
       "      <td>1.038516</td>\n",
       "      <td>-1.160954</td>\n",
       "    </tr>\n",
       "    <tr>\n",
       "      <th>2</th>\n",
       "      <td>-1.099432</td>\n",
       "      <td>0.396896</td>\n",
       "    </tr>\n",
       "    <tr>\n",
       "      <th>3</th>\n",
       "      <td>1.051454</td>\n",
       "      <td>0.968296</td>\n",
       "    </tr>\n",
       "    <tr>\n",
       "      <th>4</th>\n",
       "      <td>1.019882</td>\n",
       "      <td>0.251909</td>\n",
       "    </tr>\n",
       "  </tbody>\n",
       "</table>\n",
       "</div>"
      ],
      "text/plain": [
       "   principal component 1  principal component 2\n",
       "0              -2.185045              -0.334553\n",
       "1               1.038516              -1.160954\n",
       "2              -1.099432               0.396896\n",
       "3               1.051454               0.968296\n",
       "4               1.019882               0.251909"
      ]
     },
     "execution_count": 319,
     "metadata": {},
     "output_type": "execute_result"
    }
   ],
   "source": [
    "X_train_PCA.head()"
   ]
  },
  {
   "attachments": {},
   "cell_type": "markdown",
   "metadata": {},
   "source": [
    "# Ingeniería de características\n",
    "Vamos a realizar dos tipos de ingeniería de características. Por un lado se procederá a crear uan columna binaria adicional por cada variable que indique si existe riesgo o no de que presente calculos renales por encontrarse en los rangos anteriormente mencionados. Después generaremos nuevas características a partir de relaciones entre las existentes, relaciones que tras la investigación previa son susceptibles de ser importantes. "
   ]
  },
  {
   "attachments": {},
   "cell_type": "markdown",
   "metadata": {},
   "source": [
    "## Variables binarias de riesgo"
   ]
  },
  {
   "attachments": {},
   "cell_type": "markdown",
   "metadata": {},
   "source": [
    "- Gravedad específica > 1.03\n",
    "- pH > 7 y pH< 5.5\n",
    "- Osmolaridad > 1200 mOsm/L\n",
    "- Conductividad > 100 mMho/cm\n",
    "- Urea > 600 mmol/L\n",
    "- Calcio > 0.3 mmol/L"
   ]
  },
  {
   "cell_type": "code",
   "execution_count": 320,
   "metadata": {},
   "outputs": [],
   "source": [
    "# Genramos un nuevo dataframe vacío llamado X_train_IC_Variables_Riesgo\n",
    "X_train_IC_Variables_Riesgo = pd.DataFrame()"
   ]
  },
  {
   "attachments": {},
   "cell_type": "markdown",
   "metadata": {},
   "source": [
    "### Gravedad específica"
   ]
  },
  {
   "cell_type": "code",
   "execution_count": 321,
   "metadata": {},
   "outputs": [],
   "source": [
    "# Creamos una nueva columna que se llame 'Riesgo Gravedad' y que en caso de que la gravedad sea mayor a 1.03, se le asigne un 1, en caso contrario, un 0\n",
    "X_train_IC_Variables_Riesgo['Riesgo Gravedad'] = np.where(X_train['gravity'] > 1.03, 1, 0)"
   ]
  },
  {
   "attachments": {},
   "cell_type": "markdown",
   "metadata": {},
   "source": [
    "### pH"
   ]
  },
  {
   "cell_type": "code",
   "execution_count": 322,
   "metadata": {},
   "outputs": [],
   "source": [
    "# Creamos una nueva columna que se llame 'Riesgo pH' y que en caso de que el pH sea mayor que 7 o menor que 5.5 se le asigne un 1, en caso contrario, un 0\n",
    "X_train_IC_Variables_Riesgo['Riesgo pH'] = np.where(((X_train['ph'] > 7) | (X_train['ph'] < 5.5)), 1, 0)"
   ]
  },
  {
   "attachments": {},
   "cell_type": "markdown",
   "metadata": {},
   "source": [
    "### Osmolaridad"
   ]
  },
  {
   "cell_type": "code",
   "execution_count": 323,
   "metadata": {},
   "outputs": [],
   "source": [
    "# Creamos una nueva columna que se llame 'Riesgo Osmolaridad' y que en caso de que a osmolaridad sea mayor que 1200 se le asigne un 1, en caso contrario, un 0\n",
    "X_train_IC_Variables_Riesgo['Riesgo Osmolaridad'] = np.where((X_train['osmo'] > 1200), 1, 0)"
   ]
  },
  {
   "attachments": {},
   "cell_type": "markdown",
   "metadata": {},
   "source": [
    "### Conductividad"
   ]
  },
  {
   "cell_type": "code",
   "execution_count": 324,
   "metadata": {},
   "outputs": [
    {
     "data": {
      "text/html": [
       "<div>\n",
       "<style scoped>\n",
       "    .dataframe tbody tr th:only-of-type {\n",
       "        vertical-align: middle;\n",
       "    }\n",
       "\n",
       "    .dataframe tbody tr th {\n",
       "        vertical-align: top;\n",
       "    }\n",
       "\n",
       "    .dataframe thead th {\n",
       "        text-align: right;\n",
       "    }\n",
       "</style>\n",
       "<table border=\"1\" class=\"dataframe\">\n",
       "  <thead>\n",
       "    <tr style=\"text-align: right;\">\n",
       "      <th></th>\n",
       "      <th>id</th>\n",
       "      <th>gravity</th>\n",
       "      <th>ph</th>\n",
       "      <th>osmo</th>\n",
       "      <th>cond</th>\n",
       "      <th>urea</th>\n",
       "      <th>calc</th>\n",
       "      <th>target</th>\n",
       "    </tr>\n",
       "  </thead>\n",
       "  <tbody>\n",
       "    <tr>\n",
       "      <th>count</th>\n",
       "      <td>414.000000</td>\n",
       "      <td>414.000000</td>\n",
       "      <td>414.000000</td>\n",
       "      <td>414.000000</td>\n",
       "      <td>414.000000</td>\n",
       "      <td>414.000000</td>\n",
       "      <td>414.000000</td>\n",
       "      <td>414.000000</td>\n",
       "    </tr>\n",
       "    <tr>\n",
       "      <th>mean</th>\n",
       "      <td>206.500000</td>\n",
       "      <td>1.017894</td>\n",
       "      <td>5.955459</td>\n",
       "      <td>651.545894</td>\n",
       "      <td>21.437923</td>\n",
       "      <td>278.657005</td>\n",
       "      <td>4.114638</td>\n",
       "      <td>0.444444</td>\n",
       "    </tr>\n",
       "    <tr>\n",
       "      <th>std</th>\n",
       "      <td>119.655756</td>\n",
       "      <td>0.006675</td>\n",
       "      <td>0.642260</td>\n",
       "      <td>234.676567</td>\n",
       "      <td>7.514750</td>\n",
       "      <td>136.442249</td>\n",
       "      <td>3.217641</td>\n",
       "      <td>0.497505</td>\n",
       "    </tr>\n",
       "    <tr>\n",
       "      <th>min</th>\n",
       "      <td>0.000000</td>\n",
       "      <td>1.005000</td>\n",
       "      <td>4.760000</td>\n",
       "      <td>187.000000</td>\n",
       "      <td>5.100000</td>\n",
       "      <td>10.000000</td>\n",
       "      <td>0.170000</td>\n",
       "      <td>0.000000</td>\n",
       "    </tr>\n",
       "    <tr>\n",
       "      <th>25%</th>\n",
       "      <td>103.250000</td>\n",
       "      <td>1.012000</td>\n",
       "      <td>5.530000</td>\n",
       "      <td>455.250000</td>\n",
       "      <td>15.500000</td>\n",
       "      <td>170.000000</td>\n",
       "      <td>1.450000</td>\n",
       "      <td>0.000000</td>\n",
       "    </tr>\n",
       "    <tr>\n",
       "      <th>50%</th>\n",
       "      <td>206.500000</td>\n",
       "      <td>1.018000</td>\n",
       "      <td>5.740000</td>\n",
       "      <td>679.500000</td>\n",
       "      <td>22.200000</td>\n",
       "      <td>277.000000</td>\n",
       "      <td>3.130000</td>\n",
       "      <td>0.000000</td>\n",
       "    </tr>\n",
       "    <tr>\n",
       "      <th>75%</th>\n",
       "      <td>309.750000</td>\n",
       "      <td>1.022000</td>\n",
       "      <td>6.280000</td>\n",
       "      <td>840.000000</td>\n",
       "      <td>27.600000</td>\n",
       "      <td>385.000000</td>\n",
       "      <td>6.630000</td>\n",
       "      <td>1.000000</td>\n",
       "    </tr>\n",
       "    <tr>\n",
       "      <th>max</th>\n",
       "      <td>413.000000</td>\n",
       "      <td>1.040000</td>\n",
       "      <td>7.940000</td>\n",
       "      <td>1236.000000</td>\n",
       "      <td>38.000000</td>\n",
       "      <td>620.000000</td>\n",
       "      <td>14.340000</td>\n",
       "      <td>1.000000</td>\n",
       "    </tr>\n",
       "  </tbody>\n",
       "</table>\n",
       "</div>"
      ],
      "text/plain": [
       "               id     gravity          ph         osmo        cond   \n",
       "count  414.000000  414.000000  414.000000   414.000000  414.000000  \\\n",
       "mean   206.500000    1.017894    5.955459   651.545894   21.437923   \n",
       "std    119.655756    0.006675    0.642260   234.676567    7.514750   \n",
       "min      0.000000    1.005000    4.760000   187.000000    5.100000   \n",
       "25%    103.250000    1.012000    5.530000   455.250000   15.500000   \n",
       "50%    206.500000    1.018000    5.740000   679.500000   22.200000   \n",
       "75%    309.750000    1.022000    6.280000   840.000000   27.600000   \n",
       "max    413.000000    1.040000    7.940000  1236.000000   38.000000   \n",
       "\n",
       "             urea        calc      target  \n",
       "count  414.000000  414.000000  414.000000  \n",
       "mean   278.657005    4.114638    0.444444  \n",
       "std    136.442249    3.217641    0.497505  \n",
       "min     10.000000    0.170000    0.000000  \n",
       "25%    170.000000    1.450000    0.000000  \n",
       "50%    277.000000    3.130000    0.000000  \n",
       "75%    385.000000    6.630000    1.000000  \n",
       "max    620.000000   14.340000    1.000000  "
      ]
     },
     "execution_count": 324,
     "metadata": {},
     "output_type": "execute_result"
    }
   ],
   "source": [
    "X_train.describe()"
   ]
  },
  {
   "cell_type": "code",
   "execution_count": 325,
   "metadata": {},
   "outputs": [],
   "source": [
    "# Creamos una nueva columna que se llame 'Riesgo conductividad' y que en caso de que sea mayor a 100 se le asigne un 1, en caso contrario, un 0\n",
    "X_train_IC_Variables_Riesgo['Riesgo conductividad'] = np.where((X_train['cond'] > 100), 1, 0)"
   ]
  },
  {
   "attachments": {},
   "cell_type": "markdown",
   "metadata": {},
   "source": [
    "### Urea"
   ]
  },
  {
   "cell_type": "code",
   "execution_count": 326,
   "metadata": {},
   "outputs": [],
   "source": [
    "# Creamos una nueva columna que se llame 'Riesgo urea' y que en caso de que sea mayor a 600 se le asigne un 1, en caso contrario, un 0\n",
    "X_train_IC_Variables_Riesgo['Riesgo urea'] = np.where((X_train['urea'] > 600), 1, 0)"
   ]
  },
  {
   "attachments": {},
   "cell_type": "markdown",
   "metadata": {},
   "source": [
    "### Calcio"
   ]
  },
  {
   "cell_type": "code",
   "execution_count": 327,
   "metadata": {},
   "outputs": [],
   "source": [
    "# Creamos una nueva columna que se llame 'Riesgo calcio' y que en caso de que sea mayor a 0.3 se le asigne un 1, en caso contrario, un 0\n",
    "X_train_IC_Variables_Riesgo['Riesgo calcio'] = np.where((X_train['calc'] > 0.3), 1, 0)"
   ]
  },
  {
   "cell_type": "code",
   "execution_count": 328,
   "metadata": {},
   "outputs": [
    {
     "data": {
      "text/html": [
       "<div>\n",
       "<style scoped>\n",
       "    .dataframe tbody tr th:only-of-type {\n",
       "        vertical-align: middle;\n",
       "    }\n",
       "\n",
       "    .dataframe tbody tr th {\n",
       "        vertical-align: top;\n",
       "    }\n",
       "\n",
       "    .dataframe thead th {\n",
       "        text-align: right;\n",
       "    }\n",
       "</style>\n",
       "<table border=\"1\" class=\"dataframe\">\n",
       "  <thead>\n",
       "    <tr style=\"text-align: right;\">\n",
       "      <th></th>\n",
       "      <th>Riesgo Gravedad</th>\n",
       "      <th>Riesgo pH</th>\n",
       "      <th>Riesgo Osmolaridad</th>\n",
       "      <th>Riesgo conductividad</th>\n",
       "      <th>Riesgo urea</th>\n",
       "      <th>Riesgo calcio</th>\n",
       "    </tr>\n",
       "  </thead>\n",
       "  <tbody>\n",
       "    <tr>\n",
       "      <th>0</th>\n",
       "      <td>0</td>\n",
       "      <td>0</td>\n",
       "      <td>0</td>\n",
       "      <td>0</td>\n",
       "      <td>0</td>\n",
       "      <td>1</td>\n",
       "    </tr>\n",
       "    <tr>\n",
       "      <th>1</th>\n",
       "      <td>0</td>\n",
       "      <td>1</td>\n",
       "      <td>0</td>\n",
       "      <td>0</td>\n",
       "      <td>0</td>\n",
       "      <td>1</td>\n",
       "    </tr>\n",
       "    <tr>\n",
       "      <th>2</th>\n",
       "      <td>0</td>\n",
       "      <td>0</td>\n",
       "      <td>0</td>\n",
       "      <td>0</td>\n",
       "      <td>0</td>\n",
       "      <td>1</td>\n",
       "    </tr>\n",
       "    <tr>\n",
       "      <th>3</th>\n",
       "      <td>0</td>\n",
       "      <td>1</td>\n",
       "      <td>0</td>\n",
       "      <td>0</td>\n",
       "      <td>0</td>\n",
       "      <td>1</td>\n",
       "    </tr>\n",
       "    <tr>\n",
       "      <th>4</th>\n",
       "      <td>0</td>\n",
       "      <td>0</td>\n",
       "      <td>0</td>\n",
       "      <td>0</td>\n",
       "      <td>0</td>\n",
       "      <td>1</td>\n",
       "    </tr>\n",
       "  </tbody>\n",
       "</table>\n",
       "</div>"
      ],
      "text/plain": [
       "   Riesgo Gravedad  Riesgo pH  Riesgo Osmolaridad  Riesgo conductividad   \n",
       "0                0          0                   0                     0  \\\n",
       "1                0          1                   0                     0   \n",
       "2                0          0                   0                     0   \n",
       "3                0          1                   0                     0   \n",
       "4                0          0                   0                     0   \n",
       "\n",
       "   Riesgo urea  Riesgo calcio  \n",
       "0            0              1  \n",
       "1            0              1  \n",
       "2            0              1  \n",
       "3            0              1  \n",
       "4            0              1  "
      ]
     },
     "execution_count": 328,
     "metadata": {},
     "output_type": "execute_result"
    }
   ],
   "source": [
    "X_train_IC_Variables_Riesgo.head()"
   ]
  },
  {
   "cell_type": "code",
   "execution_count": 329,
   "metadata": {},
   "outputs": [
    {
     "data": {
      "text/plain": [
       "Riesgo Gravedad          17\n",
       "Riesgo pH               115\n",
       "Riesgo Osmolaridad       10\n",
       "Riesgo conductividad      0\n",
       "Riesgo urea              10\n",
       "Riesgo calcio           407\n",
       "dtype: int64"
      ]
     },
     "execution_count": 329,
     "metadata": {},
     "output_type": "execute_result"
    }
   ],
   "source": [
    "X_train_IC_Variables_Riesgo.sum()"
   ]
  },
  {
   "cell_type": "code",
   "execution_count": 330,
   "metadata": {},
   "outputs": [
    {
     "data": {
      "text/plain": [
       "Riesgo Gravedad        17\n",
       "Riesgo pH             115\n",
       "Riesgo Osmolaridad     10\n",
       "Riesgo urea            10\n",
       "Riesgo calcio         407\n",
       "dtype: int64"
      ]
     },
     "execution_count": 330,
     "metadata": {},
     "output_type": "execute_result"
    }
   ],
   "source": [
    "X_train_IC_Variables_Riesgo.drop(['Riesgo conductividad'], axis=1).sum()"
   ]
  },
  {
   "attachments": {},
   "cell_type": "markdown",
   "metadata": {},
   "source": [
    "## Relaciones entre características"
   ]
  },
  {
   "attachments": {},
   "cell_type": "markdown",
   "metadata": {},
   "source": [
    "Relaciones interesantes relacionadas con cálculos renales:\n",
    "\n",
    "- Relación calcio-urea: La formación de cálculos de oxalato de calcio puede estar influida por la concentración de calcio y urea. Podríamos crear una nueva característica que sea la relación entre estas dos variables. Por ejemplo: Relación CALC/Urea = Concentración de calcio / Concentración de urea.\n",
    "\n",
    "- Osmolaridad ajustada por gravedad específica: La osmolaridad es proporcional a la concentración de moléculas en solución, y la gravedad específica es una medida de la densidad de la orina. Podría ser útil crear una característica que represente la osmolaridad ajustada por la gravedad específica. Por ejemplo: Osmolaridad ajustada = Osmolaridad / Gravedad específica.\n",
    "\n",
    "- Índice de saturación de calcio: En la urología, el índice de saturación de calcio es una medida que puede ayudar a predecir la formación de cálculos de oxalato de calcio. Podemos crear una característica similar usando nuestras variables: Índice de saturación de calcio = Concentración de calcio * Osmolaridad.\n",
    "\n",
    "- Factor de concentración iónica: La conductividad es proporcional a la concentración de iones cargados en solución, y el pH también puede afectar la concentración iónica. Podríamos crear una nueva característica que sea el producto de la conductividad y el pH. Por ejemplo: Factor de concentración iónica = Conductividad * pH."
   ]
  },
  {
   "cell_type": "code",
   "execution_count": 331,
   "metadata": {},
   "outputs": [],
   "source": [
    "# Creamos un nuevo dataframe llamado X_train_IC_Relaciones\n",
    "X_train_IC_Relaciones = pd.DataFrame()"
   ]
  },
  {
   "attachments": {},
   "cell_type": "markdown",
   "metadata": {},
   "source": [
    "### Relación Calcio - Urea"
   ]
  },
  {
   "cell_type": "code",
   "execution_count": 332,
   "metadata": {},
   "outputs": [],
   "source": [
    "X_train_IC_Relaciones['Realcion Calc-Urea'] = X_train['calc'] / X_train['urea']"
   ]
  },
  {
   "attachments": {},
   "cell_type": "markdown",
   "metadata": {},
   "source": [
    "### Osmolaridad ajustada por gravedad específica"
   ]
  },
  {
   "cell_type": "code",
   "execution_count": 333,
   "metadata": {},
   "outputs": [],
   "source": [
    "X_train_IC_Relaciones['Osmolaridad ajustada'] = X_train['osmo']/X_train['gravity']"
   ]
  },
  {
   "attachments": {},
   "cell_type": "markdown",
   "metadata": {},
   "source": [
    "### Índice de saturación de calcio"
   ]
  },
  {
   "cell_type": "code",
   "execution_count": 334,
   "metadata": {},
   "outputs": [],
   "source": [
    "X_train_IC_Relaciones['Indice saturacion calc'] = X_train['calc']*X_train['osmo']"
   ]
  },
  {
   "attachments": {},
   "cell_type": "markdown",
   "metadata": {},
   "source": [
    "### Factor de concentración iónica."
   ]
  },
  {
   "cell_type": "code",
   "execution_count": 335,
   "metadata": {},
   "outputs": [],
   "source": [
    "X_train_IC_Relaciones['Factor concentracion ionica'] = X_train['cond']*X_train['ph']"
   ]
  },
  {
   "cell_type": "code",
   "execution_count": 336,
   "metadata": {},
   "outputs": [
    {
     "data": {
      "text/html": [
       "<div>\n",
       "<style scoped>\n",
       "    .dataframe tbody tr th:only-of-type {\n",
       "        vertical-align: middle;\n",
       "    }\n",
       "\n",
       "    .dataframe tbody tr th {\n",
       "        vertical-align: top;\n",
       "    }\n",
       "\n",
       "    .dataframe thead th {\n",
       "        text-align: right;\n",
       "    }\n",
       "</style>\n",
       "<table border=\"1\" class=\"dataframe\">\n",
       "  <thead>\n",
       "    <tr style=\"text-align: right;\">\n",
       "      <th></th>\n",
       "      <th>Realcion Calc-Urea</th>\n",
       "      <th>Osmolaridad ajustada</th>\n",
       "      <th>Indice saturacion calc</th>\n",
       "      <th>Factor concentracion ionica</th>\n",
       "    </tr>\n",
       "  </thead>\n",
       "  <tbody>\n",
       "    <tr>\n",
       "      <th>count</th>\n",
       "      <td>414.000000</td>\n",
       "      <td>414.000000</td>\n",
       "      <td>414.000000</td>\n",
       "      <td>414.000000</td>\n",
       "    </tr>\n",
       "    <tr>\n",
       "      <th>mean</th>\n",
       "      <td>0.015876</td>\n",
       "      <td>639.076188</td>\n",
       "      <td>3036.509783</td>\n",
       "      <td>126.756971</td>\n",
       "    </tr>\n",
       "    <tr>\n",
       "      <th>std</th>\n",
       "      <td>0.012198</td>\n",
       "      <td>227.658735</td>\n",
       "      <td>3016.695495</td>\n",
       "      <td>44.373627</td>\n",
       "    </tr>\n",
       "    <tr>\n",
       "      <th>min</th>\n",
       "      <td>0.000603</td>\n",
       "      <td>184.965381</td>\n",
       "      <td>42.670000</td>\n",
       "      <td>27.591000</td>\n",
       "    </tr>\n",
       "    <tr>\n",
       "      <th>25%</th>\n",
       "      <td>0.007832</td>\n",
       "      <td>447.717555</td>\n",
       "      <td>793.747500</td>\n",
       "      <td>92.002500</td>\n",
       "    </tr>\n",
       "    <tr>\n",
       "      <th>50%</th>\n",
       "      <td>0.013333</td>\n",
       "      <td>668.633235</td>\n",
       "      <td>1946.680000</td>\n",
       "      <td>131.286000</td>\n",
       "    </tr>\n",
       "    <tr>\n",
       "      <th>75%</th>\n",
       "      <td>0.019943</td>\n",
       "      <td>819.113212</td>\n",
       "      <td>4270.970000</td>\n",
       "      <td>158.472000</td>\n",
       "    </tr>\n",
       "    <tr>\n",
       "      <th>max</th>\n",
       "      <td>0.108750</td>\n",
       "      <td>1211.764706</td>\n",
       "      <td>17724.240000</td>\n",
       "      <td>238.640000</td>\n",
       "    </tr>\n",
       "  </tbody>\n",
       "</table>\n",
       "</div>"
      ],
      "text/plain": [
       "       Realcion Calc-Urea  Osmolaridad ajustada  Indice saturacion calc   \n",
       "count          414.000000            414.000000              414.000000  \\\n",
       "mean             0.015876            639.076188             3036.509783   \n",
       "std              0.012198            227.658735             3016.695495   \n",
       "min              0.000603            184.965381               42.670000   \n",
       "25%              0.007832            447.717555              793.747500   \n",
       "50%              0.013333            668.633235             1946.680000   \n",
       "75%              0.019943            819.113212             4270.970000   \n",
       "max              0.108750           1211.764706            17724.240000   \n",
       "\n",
       "       Factor concentracion ionica  \n",
       "count                   414.000000  \n",
       "mean                    126.756971  \n",
       "std                      44.373627  \n",
       "min                      27.591000  \n",
       "25%                      92.002500  \n",
       "50%                     131.286000  \n",
       "75%                     158.472000  \n",
       "max                     238.640000  "
      ]
     },
     "execution_count": 336,
     "metadata": {},
     "output_type": "execute_result"
    }
   ],
   "source": [
    "X_train_IC_Relaciones.describe()"
   ]
  },
  {
   "cell_type": "code",
   "execution_count": 337,
   "metadata": {},
   "outputs": [],
   "source": [
    "# Unimos ambos dataframe en uno solo con todas las variables de ingenieria de caracteristicas\n",
    "X_train_IC = pd.concat([X_train_IC_Relaciones, X_train_IC_Variables_Riesgo], axis=1)"
   ]
  },
  {
   "attachments": {},
   "cell_type": "markdown",
   "metadata": {},
   "source": [
    "# Modelado\n",
    "Entrenaremos varios modelos de aprendizaje automático y seleccionaremos el que ofrezca el mejor rendimiento. Teniendo en cuenta las características de nuestro conjunto de datos, hay algunos modelos que pueden no funcionar tan bien. Por ejemplo:\n",
    "\n",
    "- Naive Bayes: Este modelo asume que todas las variables de entrada son independientes entre sí, lo que se denomina \"naive\" (ingenuo). Al tener características dependientes entre sí podemos descartar este modelo.\n",
    "\n",
    "- Regresión Logística: Aunque la regresión logística no requiere que las características sean independientes, la multicolinealidad (alta correlación entre características predictoras) puede hacer que el modelo sea inestable, lhaciendo que los coeficientes pueden cambiar drásticamente con pequeñas modificaciones en el modelo.\n",
    "\n",
    "Los siguientes modelos, sin embargo, pueden manejar relaciones dependientes entre las características:\n",
    "\n",
    "- Árboles de decisión y Random Forest: Estos modelos pueden manejar bien las interacciones entre las variables, por lo que pueden ser útiles en este caso.\n",
    "\n",
    "- Gradient Boosting (XGBoost, LightGBM): Al igual que los árboles de decisión, estos modelos también pueden capturar interacciones entre características.\n",
    "\n",
    "- Máquinas de vectores de soporte (SVM): Las SVM pueden manejar interacciones entre características, especialmente cuando se utiliza un kernel no lineal.\n",
    "\n",
    "- Redes Neuronales: Las redes neuronales son capaces de capturar interacciones complejas entre características, por lo que podrían ser una buena opción.\n",
    "\n",
    "- K-Nearest Neighbors (KNN): Este modelo no hace ninguna suposición sobre la independencia de las características, por lo que puede ser útil en este caso.\n",
    "\n",
    "Se prueba cada uno de ellos."
   ]
  },
  {
   "cell_type": "code",
   "execution_count": 338,
   "metadata": {},
   "outputs": [
    {
     "data": {
      "text/html": [
       "<div>\n",
       "<style scoped>\n",
       "    .dataframe tbody tr th:only-of-type {\n",
       "        vertical-align: middle;\n",
       "    }\n",
       "\n",
       "    .dataframe tbody tr th {\n",
       "        vertical-align: top;\n",
       "    }\n",
       "\n",
       "    .dataframe thead th {\n",
       "        text-align: right;\n",
       "    }\n",
       "</style>\n",
       "<table border=\"1\" class=\"dataframe\">\n",
       "  <thead>\n",
       "    <tr style=\"text-align: right;\">\n",
       "      <th></th>\n",
       "      <th>id</th>\n",
       "      <th>gravity</th>\n",
       "      <th>ph</th>\n",
       "      <th>osmo</th>\n",
       "      <th>cond</th>\n",
       "      <th>urea</th>\n",
       "      <th>calc</th>\n",
       "      <th>target</th>\n",
       "    </tr>\n",
       "  </thead>\n",
       "  <tbody>\n",
       "    <tr>\n",
       "      <th>0</th>\n",
       "      <td>0</td>\n",
       "      <td>1.013</td>\n",
       "      <td>6.19</td>\n",
       "      <td>443</td>\n",
       "      <td>14.8</td>\n",
       "      <td>124</td>\n",
       "      <td>1.45</td>\n",
       "      <td>0</td>\n",
       "    </tr>\n",
       "    <tr>\n",
       "      <th>1</th>\n",
       "      <td>1</td>\n",
       "      <td>1.025</td>\n",
       "      <td>5.40</td>\n",
       "      <td>703</td>\n",
       "      <td>23.6</td>\n",
       "      <td>394</td>\n",
       "      <td>4.18</td>\n",
       "      <td>0</td>\n",
       "    </tr>\n",
       "    <tr>\n",
       "      <th>2</th>\n",
       "      <td>2</td>\n",
       "      <td>1.009</td>\n",
       "      <td>6.13</td>\n",
       "      <td>371</td>\n",
       "      <td>24.5</td>\n",
       "      <td>159</td>\n",
       "      <td>9.04</td>\n",
       "      <td>0</td>\n",
       "    </tr>\n",
       "    <tr>\n",
       "      <th>3</th>\n",
       "      <td>3</td>\n",
       "      <td>1.021</td>\n",
       "      <td>4.91</td>\n",
       "      <td>442</td>\n",
       "      <td>20.8</td>\n",
       "      <td>398</td>\n",
       "      <td>6.63</td>\n",
       "      <td>1</td>\n",
       "    </tr>\n",
       "    <tr>\n",
       "      <th>4</th>\n",
       "      <td>4</td>\n",
       "      <td>1.021</td>\n",
       "      <td>5.53</td>\n",
       "      <td>874</td>\n",
       "      <td>17.8</td>\n",
       "      <td>385</td>\n",
       "      <td>2.21</td>\n",
       "      <td>1</td>\n",
       "    </tr>\n",
       "  </tbody>\n",
       "</table>\n",
       "</div>"
      ],
      "text/plain": [
       "   id  gravity    ph  osmo  cond  urea  calc  target\n",
       "0   0    1.013  6.19   443  14.8   124  1.45       0\n",
       "1   1    1.025  5.40   703  23.6   394  4.18       0\n",
       "2   2    1.009  6.13   371  24.5   159  9.04       0\n",
       "3   3    1.021  4.91   442  20.8   398  6.63       1\n",
       "4   4    1.021  5.53   874  17.8   385  2.21       1"
      ]
     },
     "execution_count": 338,
     "metadata": {},
     "output_type": "execute_result"
    }
   ],
   "source": [
    "X_train.head()"
   ]
  },
  {
   "cell_type": "code",
   "execution_count": 339,
   "metadata": {},
   "outputs": [],
   "source": [
    "X_train.drop(['id', 'target'], axis=1, inplace=True)"
   ]
  },
  {
   "cell_type": "code",
   "execution_count": 340,
   "metadata": {},
   "outputs": [
    {
     "data": {
      "text/html": [
       "<div>\n",
       "<style scoped>\n",
       "    .dataframe tbody tr th:only-of-type {\n",
       "        vertical-align: middle;\n",
       "    }\n",
       "\n",
       "    .dataframe tbody tr th {\n",
       "        vertical-align: top;\n",
       "    }\n",
       "\n",
       "    .dataframe thead th {\n",
       "        text-align: right;\n",
       "    }\n",
       "</style>\n",
       "<table border=\"1\" class=\"dataframe\">\n",
       "  <thead>\n",
       "    <tr style=\"text-align: right;\">\n",
       "      <th></th>\n",
       "      <th>gravity</th>\n",
       "      <th>ph</th>\n",
       "      <th>osmo</th>\n",
       "      <th>cond</th>\n",
       "      <th>urea</th>\n",
       "      <th>calc</th>\n",
       "    </tr>\n",
       "  </thead>\n",
       "  <tbody>\n",
       "    <tr>\n",
       "      <th>0</th>\n",
       "      <td>1.013</td>\n",
       "      <td>6.19</td>\n",
       "      <td>443</td>\n",
       "      <td>14.8</td>\n",
       "      <td>124</td>\n",
       "      <td>1.45</td>\n",
       "    </tr>\n",
       "    <tr>\n",
       "      <th>1</th>\n",
       "      <td>1.025</td>\n",
       "      <td>5.40</td>\n",
       "      <td>703</td>\n",
       "      <td>23.6</td>\n",
       "      <td>394</td>\n",
       "      <td>4.18</td>\n",
       "    </tr>\n",
       "    <tr>\n",
       "      <th>2</th>\n",
       "      <td>1.009</td>\n",
       "      <td>6.13</td>\n",
       "      <td>371</td>\n",
       "      <td>24.5</td>\n",
       "      <td>159</td>\n",
       "      <td>9.04</td>\n",
       "    </tr>\n",
       "    <tr>\n",
       "      <th>3</th>\n",
       "      <td>1.021</td>\n",
       "      <td>4.91</td>\n",
       "      <td>442</td>\n",
       "      <td>20.8</td>\n",
       "      <td>398</td>\n",
       "      <td>6.63</td>\n",
       "    </tr>\n",
       "    <tr>\n",
       "      <th>4</th>\n",
       "      <td>1.021</td>\n",
       "      <td>5.53</td>\n",
       "      <td>874</td>\n",
       "      <td>17.8</td>\n",
       "      <td>385</td>\n",
       "      <td>2.21</td>\n",
       "    </tr>\n",
       "  </tbody>\n",
       "</table>\n",
       "</div>"
      ],
      "text/plain": [
       "   gravity    ph  osmo  cond  urea  calc\n",
       "0    1.013  6.19   443  14.8   124  1.45\n",
       "1    1.025  5.40   703  23.6   394  4.18\n",
       "2    1.009  6.13   371  24.5   159  9.04\n",
       "3    1.021  4.91   442  20.8   398  6.63\n",
       "4    1.021  5.53   874  17.8   385  2.21"
      ]
     },
     "execution_count": 340,
     "metadata": {},
     "output_type": "execute_result"
    }
   ],
   "source": [
    "X_train.head()"
   ]
  },
  {
   "cell_type": "code",
   "execution_count": 341,
   "metadata": {},
   "outputs": [
    {
     "data": {
      "image/png": "[encoded data removed]",
      "text/plain": [
       "<Figure size 1200x600 with 1 Axes>"
      ]
     },
     "metadata": {},
     "output_type": "display_data"
    }
   ],
   "source": [
    "# Importamos las librerías necesarias\n",
    "from sklearn.model_selection import cross_val_score\n",
    "from sklearn.tree import DecisionTreeClassifier\n",
    "from sklearn.ensemble import RandomForestClassifier\n",
    "from sklearn.svm import SVC\n",
    "from sklearn.neighbors import KNeighborsClassifier\n",
    "from sklearn.neural_network import MLPClassifier\n",
    "from xgboost import XGBClassifier\n",
    "from lightgbm import LGBMClassifier\n",
    "\n",
    "\n",
    "# Creamos una lista con los modelos a entrenar\n",
    "models = [\n",
    "    DecisionTreeClassifier(),\n",
    "    RandomForestClassifier(),\n",
    "    SVC(probability=True),\n",
    "    MLPClassifier(max_iter=1000),\n",
    "    KNeighborsClassifier(),\n",
    "    XGBClassifier(eval_metric='logloss'),  \n",
    "    LGBMClassifier() \n",
    "]\n",
    "\n",
    "# Creamos una lista para guardar los resultados de la validación cruzada\n",
    "cv_results = []\n",
    "\n",
    "# Realizamos la validación cruzada para cada modelo\n",
    "for model in models:\n",
    "    cv_scores = cross_val_score(model, X_train, y_train, cv=5, scoring='accuracy')  \n",
    "    cv_results.append(cv_scores)\n",
    "    \n",
    "# Creamos un dataframe para visualizar los resultados\n",
    "cv_df = pd.DataFrame(cv_results, \n",
    "                     index=['Decision Tree', 'Random Forest', 'SVM', 'Neural Network', 'KNN', 'XGBoost', 'LightGBM']).T\n",
    "\n",
    "# Creamos el boxplot\n",
    "plt.figure(figsize=(12, 6))\n",
    "sns.boxplot(data=cv_df)\n",
    "plt.title('Model Comparison')\n",
    "plt.ylabel('Accuracy')  \n",
    "plt.show()\n"
   ]
  },
  {
   "attachments": {},
   "cell_type": "markdown",
   "metadata": {},
   "source": [
    "Seleccionamos inicialmente el modelo random forest, y tras evaluar sus resultados decidiremos si entrenar nuevos modelos o no."
   ]
  },
  {
   "attachments": {},
   "cell_type": "markdown",
   "metadata": {},
   "source": [
    "# Evaluación del modelo\n"
   ]
  },
  {
   "attachments": {},
   "cell_type": "markdown",
   "metadata": {},
   "source": [
    "## Selección de mejores hiperparametros"
   ]
  },
  {
   "cell_type": "code",
   "execution_count": 297,
   "metadata": {},
   "outputs": [
    {
     "name": "stdout",
     "output_type": "stream",
     "text": [
      "100%|██████████| 100/100 [08:08<00:00,  4.89s/trial, best loss: -0.7269761974728182]\n",
      "Best:  {'criterion': 1, 'max_depth': 6.0, 'min_samples_leaf': 0.0266750068456163, 'min_samples_split': 0.10569712997517333, 'n_estimators': 218.0}\n"
     ]
    }
   ],
   "source": [
    "from hyperopt import hp, fmin, tpe, STATUS_OK, Trials\n",
    "from sklearn.ensemble import RandomForestClassifier\n",
    "from sklearn.model_selection import cross_val_score\n",
    "\n",
    "# Eespacio de búsqueda para los hiperparámetros\n",
    "space = {\n",
    "    'n_estimators': hp.quniform('n_estimators', 100, 1000, 1),\n",
    "    'max_depth': hp.quniform('max_depth', 1, 20, 1),\n",
    "    'min_samples_leaf': hp.uniform('min_samples_leaf', 0, 0.5),\n",
    "    'min_samples_split' : hp.uniform ('min_samples_split', 0, 1),\n",
    "    'criterion': hp.choice('criterion', ['gini', 'entropy'])\n",
    "}\n",
    "\n",
    "# Función objetivo para la optimización\n",
    "def objective(space):\n",
    "    model = RandomForestClassifier(\n",
    "        n_estimators = int(space['n_estimators']),\n",
    "        max_depth = int(space['max_depth']),\n",
    "        min_samples_leaf = space['min_samples_leaf'],\n",
    "        min_samples_split = space['min_samples_split'],\n",
    "        criterion = space['criterion']\n",
    "    )\n",
    "    \n",
    "    accuracy = cross_val_score(model, X_train, y_train, cv=5).mean()\n",
    "\n",
    "    # Queremos maximizar la precisión, por lo que devolvemos su negativo\n",
    "    return {'loss': -accuracy, 'status': STATUS_OK}\n",
    "\n",
    "# Ejecuta la optimización\n",
    "trials = Trials()\n",
    "best = fmin(fn=objective,\n",
    "            space=space,\n",
    "            algo=tpe.suggest,\n",
    "            max_evals=100,\n",
    "            trials=trials)\n",
    "\n",
    "print(\"Best: \", best)"
   ]
  },
  {
   "attachments": {},
   "cell_type": "markdown",
   "metadata": {},
   "source": [
    "# Entrenamiento del modelo con los mejores hiperparametros"
   ]
  },
  {
   "cell_type": "code",
   "execution_count": 342,
   "metadata": {},
   "outputs": [
    {
     "data": {
      "text/html": [
       "<style>#sk-container-id-4 {color: black;background-color: white;}#sk-container-id-4 pre{padding: 0;}#sk-container-id-4 div.sk-toggleable {background-color: white;}#sk-container-id-4 label.sk-toggleable__label {cursor: pointer;display: block;width: 100%;margin-bottom: 0;padding: 0.3em;box-sizing: border-box;text-align: center;}#sk-container-id-4 label.sk-toggleable__label-arrow:before {content: \"▸\";float: left;margin-right: 0.25em;color: #696969;}#sk-container-id-4 label.sk-toggleable__label-arrow:hover:before {color: black;}#sk-container-id-4 div.sk-estimator:hover label.sk-toggleable__label-arrow:before {color: black;}#sk-container-id-4 div.sk-toggleable__content {max-height: 0;max-width: 0;overflow: hidden;text-align: left;background-color: #f0f8ff;}#sk-container-id-4 div.sk-toggleable__content pre {margin: 0.2em;color: black;border-radius: 0.25em;background-color: #f0f8ff;}#sk-container-id-4 input.sk-toggleable__control:checked~div.sk-toggleable__content {max-height: 200px;max-width: 100%;overflow: auto;}#sk-container-id-4 input.sk-toggleable__control:checked~label.sk-toggleable__label-arrow:before {content: \"▾\";}#sk-container-id-4 div.sk-estimator input.sk-toggleable__control:checked~label.sk-toggleable__label {background-color: #d4ebff;}#sk-container-id-4 div.sk-label input.sk-toggleable__control:checked~label.sk-toggleable__label {background-color: #d4ebff;}#sk-container-id-4 input.sk-hidden--visually {border: 0;clip: rect(1px 1px 1px 1px);clip: rect(1px, 1px, 1px, 1px);height: 1px;margin: -1px;overflow: hidden;padding: 0;position: absolute;width: 1px;}#sk-container-id-4 div.sk-estimator {font-family: monospace;background-color: #f0f8ff;border: 1px dotted black;border-radius: 0.25em;box-sizing: border-box;margin-bottom: 0.5em;}#sk-container-id-4 div.sk-estimator:hover {background-color: #d4ebff;}#sk-container-id-4 div.sk-parallel-item::after {content: \"\";width: 100%;border-bottom: 1px solid gray;flex-grow: 1;}#sk-container-id-4 div.sk-label:hover label.sk-toggleable__label {background-color: #d4ebff;}#sk-container-id-4 div.sk-serial::before {content: \"\";position: absolute;border-left: 1px solid gray;box-sizing: border-box;top: 0;bottom: 0;left: 50%;z-index: 0;}#sk-container-id-4 div.sk-serial {display: flex;flex-direction: column;align-items: center;background-color: white;padding-right: 0.2em;padding-left: 0.2em;position: relative;}#sk-container-id-4 div.sk-item {position: relative;z-index: 1;}#sk-container-id-4 div.sk-parallel {display: flex;align-items: stretch;justify-content: center;background-color: white;position: relative;}#sk-container-id-4 div.sk-item::before, #sk-container-id-4 div.sk-parallel-item::before {content: \"\";position: absolute;border-left: 1px solid gray;box-sizing: border-box;top: 0;bottom: 0;left: 50%;z-index: -1;}#sk-container-id-4 div.sk-parallel-item {display: flex;flex-direction: column;z-index: 1;position: relative;background-color: white;}#sk-container-id-4 div.sk-parallel-item:first-child::after {align-self: flex-end;width: 50%;}#sk-container-id-4 div.sk-parallel-item:last-child::after {align-self: flex-start;width: 50%;}#sk-container-id-4 div.sk-parallel-item:only-child::after {width: 0;}#sk-container-id-4 div.sk-dashed-wrapped {border: 1px dashed gray;margin: 0 0.4em 0.5em 0.4em;box-sizing: border-box;padding-bottom: 0.4em;background-color: white;}#sk-container-id-4 div.sk-label label {font-family: monospace;font-weight: bold;display: inline-block;line-height: 1.2em;}#sk-container-id-4 div.sk-label-container {text-align: center;}#sk-container-id-4 div.sk-container {/* jupyter's `normalize.less` sets `[hidden] { display: none; }` but bootstrap.min.css set `[hidden] { display: none !important; }` so we also need the `!important` here to be able to override the default hidden behavior on the sphinx rendered scikit-learn.org. See: https://github.com/scikit-learn/scikit-learn/issues/21755 */display: inline-block !important;position: relative;}#sk-container-id-4 div.sk-text-repr-fallback {display: none;}</style><div id=\"sk-container-id-4\" class=\"sk-top-container\"><div class=\"sk-text-repr-fallback\"><pre>RandomForestClassifier(criterion=&#x27;entropy&#x27;, max_depth=6,\n",
       "                       min_samples_leaf=0.0266750068456163,\n",
       "                       min_samples_split=0.10569712997517333, n_estimators=218)</pre><b>In a Jupyter environment, please rerun this cell to show the HTML representation or trust the notebook. <br />On GitHub, the HTML representation is unable to render, please try loading this page with nbviewer.org.</b></div><div class=\"sk-container\" hidden><div class=\"sk-item\"><div class=\"sk-estimator sk-toggleable\"><input class=\"sk-toggleable__control sk-hidden--visually\" id=\"sk-estimator-id-4\" type=\"checkbox\" checked><label for=\"sk-estimator-id-4\" class=\"sk-toggleable__label sk-toggleable__label-arrow\">RandomForestClassifier</label><div class=\"sk-toggleable__content\"><pre>RandomForestClassifier(criterion=&#x27;entropy&#x27;, max_depth=6,\n",
       "                       min_samples_leaf=0.0266750068456163,\n",
       "                       min_samples_split=0.10569712997517333, n_estimators=218)</pre></div></div></div></div></div>"
      ],
      "text/plain": [
       "RandomForestClassifier(criterion='entropy', max_depth=6,\n",
       "                       min_samples_leaf=0.0266750068456163,\n",
       "                       min_samples_split=0.10569712997517333, n_estimators=218)"
      ]
     },
     "execution_count": 342,
     "metadata": {},
     "output_type": "execute_result"
    }
   ],
   "source": [
    "#max_features_options = ['sqrt']\n",
    "criterion_options = ['gini', 'entropy']\n",
    "\n",
    "# Se recuperan los mejores hiperparámetros\n",
    "best_params = {\n",
    "    'n_estimators': int(best['n_estimators']),\n",
    "    'max_depth': int(best['max_depth']),\n",
    "    #'max_features': max_features_options[int(best['max_features'])],\n",
    "    'min_samples_leaf': best['min_samples_leaf'],\n",
    "    'min_samples_split': best['min_samples_split'],\n",
    "    'criterion': criterion_options[int(best['criterion'])]\n",
    "}\n",
    "\n",
    "# Se entrena el modelo con los mejores hiperparámetros\n",
    "model = RandomForestClassifier(**best_params)\n",
    "model.fit(X_train, y_train)"
   ]
  },
  {
   "cell_type": "code",
   "execution_count": 345,
   "metadata": {},
   "outputs": [
    {
     "data": {
      "text/plain": [
       "Text(0, 0.5, 'Accuracy')"
      ]
     },
     "execution_count": 345,
     "metadata": {},
     "output_type": "execute_result"
    }
   ],
   "source": [
    "# Uniendo las características originales y las de ingeniería\n",
    "X_train_completo = pd.concat([X_train, X_train_IC], axis=1)\n",
    "\n",
    "# Creando un DataFrame para almacenar los resultados\n",
    "results = pd.DataFrame(columns=['feature', 'score'])\n",
    "\n",
    "\n",
    "\n",
    "# Bucle a través de todas las características\n",
    "for feature in X_train_IC.columns:\n",
    "\n",
    "    # Añadimos a X el dataframe X_train mas la característica feature al final del dataframe\n",
    "    X = pd.concat([X_train, X_train_IC[feature]], axis=1)    \n",
    "\n",
    "    #     # Calcular la puntuación de validación cruzada para la característica actual\n",
    "    scores = cross_val_score(model, X, y_train, cv=5)\n",
    "    \n",
    "    # Añadir los resultados al DataFrame\n",
    "    for score in scores:\n",
    "        results.loc[len(results)] = [feature, score]\n",
    "\n",
    "plt.figure(figsize=(12, 6))\n",
    "sns.boxplot(x='feature', y='score', data=results)\n",
    "plt.axhline(y=0.725, color='r', linestyle='-')\n",
    "plt.xticks(rotation=90)  # Gira las etiquetas del eje x para que sean más legibles\n",
    "plt.title('Feature Engineering')\n",
    "plt.ylabel('Accuracy')\n",
    "plt.show()\n",
    "\n"
   ]
  },
  {
   "cell_type": "code",
   "execution_count": null,
   "metadata": {},
   "outputs": [],
   "source": [
    "# Creamos una nueva columna que se llame 'Riesgo conductividad' y que en caso de que sea mayor a 100 se le asigne un 1, en caso contrario, un 0\n",
    "X_train_IC_Variables_Riesgo['Riesgo conductividad'] = np.where((X_train['cond'] > 100), 1, 0)"
   ]
  },
  {
   "cell_type": "code",
   "execution_count": null,
   "metadata": {},
   "outputs": [],
   "source": [
    "output = pd.DataFrame({'id': X_train['id'],\n",
    "                       'target': y_pred})\n",
    "output.to_csv('submission.csv', index=False) "
   ]
  },
  {
   "attachments": {},
   "cell_type": "markdown",
   "metadata": {},
   "source": [
    "# Ajuste del modelo\n",
    "Optimización del modelo para mejorar su rendimiento.\n"
   ]
  }
 ],
 "metadata": {
  "kernelspec": {
   "display_name": "Python 3",
   "language": "python",
   "name": "python3"
  },
  "language_info": {
   "codemirror_mode": {
    "name": "ipython",
    "version": 3
   },
   "file_extension": ".py",
   "mimetype": "text/x-python",
   "name": "python",
   "nbconvert_exporter": "python",
   "pygments_lexer": "ipython3",
   "version": "3.11.2"
  },
  "orig_nbformat": 4
 },
 "nbformat": 4,
 "nbformat_minor": 2
}
